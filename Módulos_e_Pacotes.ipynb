{
  "nbformat": 4,
  "nbformat_minor": 0,
  "metadata": {
    "colab": {
      "provenance": [],
      "authorship_tag": "ABX9TyOTEsbJsI4M1fwr4MyznES7",
      "include_colab_link": true
    },
    "kernelspec": {
      "name": "python3",
      "display_name": "Python 3"
    },
    "language_info": {
      "name": "python"
    }
  },
  "cells": [
    {
      "cell_type": "markdown",
      "metadata": {
        "id": "view-in-github",
        "colab_type": "text"
      },
      "source": [
        "<a href=\"https://colab.research.google.com/github/mariavirna/M-dulos-e-Pacotes/blob/main/M%C3%B3dulos_e_Pacotes.ipynb\" target=\"_parent\"><img src=\"https://colab.research.google.com/assets/colab-badge.svg\" alt=\"Open In Colab\"/></a>"
      ]
    },
    {
      "cell_type": "code",
      "execution_count": 15,
      "metadata": {
        "colab": {
          "base_uri": "https://localhost:8080/"
        },
        "id": "X14DZSyRCjVR",
        "outputId": "050a4a08-be1a-463c-9349-0c55cd8dafff"
      },
      "outputs": [
        {
          "output_type": "stream",
          "name": "stdout",
          "text": [
            "7.5\n",
            "7.5\n"
          ]
        }
      ],
      "source": [
        "import statistics\n",
        "z=[1,2,3,4,5,6,7,8,9,10,11,12,13,14]\n",
        "x = statistics.mean(z)\n",
        "y = statistics.median(z)\n",
        "print(x)\n",
        "print(y)"
      ]
    },
    {
      "cell_type": "code",
      "source": [
        "import statistics as est\n",
        "z=[1,2,3,4,5,6,7,8,9,10,11,12,13,14]\n",
        "x = est.mean(z)\n",
        "y = est.median(z)\n",
        "print(x)\n",
        "print(y)"
      ],
      "metadata": {
        "colab": {
          "base_uri": "https://localhost:8080/"
        },
        "id": "Wfo1iaM9ETzY",
        "outputId": "23ba5e0e-3d8d-4e2a-cbeb-5a9ef4750ae0"
      },
      "execution_count": 16,
      "outputs": [
        {
          "output_type": "stream",
          "name": "stdout",
          "text": [
            "7.5\n",
            "7.5\n"
          ]
        }
      ]
    },
    {
      "cell_type": "code",
      "source": [
        "from statistics import mean, median\n",
        "x = mean(z)\n",
        "y = median(z)\n",
        "print(x)\n",
        "print(y)\n"
      ],
      "metadata": {
        "colab": {
          "base_uri": "https://localhost:8080/"
        },
        "id": "iOoSqfRsFqyK",
        "outputId": "4b771b89-23c8-4355-9a3d-189681dd015c"
      },
      "execution_count": 17,
      "outputs": [
        {
          "output_type": "stream",
          "name": "stdout",
          "text": [
            "7.5\n",
            "7.5\n"
          ]
        }
      ]
    },
    {
      "cell_type": "code",
      "source": [
        "from statistics import *\n",
        "x = mean(z)\n",
        "y = median(z)\n",
        "print(x)\n",
        "print(y)\n"
      ],
      "metadata": {
        "colab": {
          "base_uri": "https://localhost:8080/"
        },
        "id": "Hk2rRB23GBEV",
        "outputId": "1646833d-dc7c-4bd7-fc58-27c5d9acc22d"
      },
      "execution_count": 18,
      "outputs": [
        {
          "output_type": "stream",
          "name": "stdout",
          "text": [
            "7.5\n",
            "7.5\n"
          ]
        }
      ]
    }
  ]
}